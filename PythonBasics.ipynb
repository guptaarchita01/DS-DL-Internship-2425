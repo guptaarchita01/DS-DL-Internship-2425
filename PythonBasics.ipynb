{
 "cells": [
  {
   "cell_type": "markdown",
   "id": "2c81e0a8-78be-48e0-908e-3639e2bb92b4",
   "metadata": {},
   "source": [
    "### Basic Operations"
   ]
  },
  {
   "cell_type": "code",
   "execution_count": 6,
   "id": "409e2f60-6693-4933-a09b-3d5f25dfdc98",
   "metadata": {},
   "outputs": [
    {
     "name": "stdout",
     "output_type": "stream",
     "text": [
      "8\n"
     ]
    }
   ],
   "source": [
    "addition= 3 + 5\n",
    "print (addition)"
   ]
  },
  {
   "cell_type": "markdown",
   "id": "14bd733c-ea26-4e8b-ab0a-111c75b9de4f",
   "metadata": {},
   "source": [
    "### Data Structures"
   ]
  },
  {
   "cell_type": "code",
   "execution_count": 18,
   "id": "1ac79063-10d6-4f4d-a335-5f4aede9dc08",
   "metadata": {},
   "outputs": [],
   "source": [
    "randomList = [1, 2, 3, 4, 5, 6]"
   ]
  },
  {
   "cell_type": "markdown",
   "id": "442b38e6-ed41-4a7e-aed1-3fe59300b511",
   "metadata": {},
   "source": [
    "### Multiply all the odd numbers in the given list"
   ]
  },
  {
   "cell_type": "code",
   "execution_count": 19,
   "id": "e0b00aed-edfb-4648-9caf-a122917d739e",
   "metadata": {},
   "outputs": [
    {
     "name": "stdout",
     "output_type": "stream",
     "text": [
      "The final answer is: 15\n"
     ]
    }
   ],
   "source": [
    "result = 1\n",
    "for _ in randomList:\n",
    "  if _% 2 != 0:\n",
    "    result*= _\n",
    "print (f'The final answer is: {result}')  "
   ]
  },
  {
   "cell_type": "markdown",
   "id": "46d3d026-8236-45cd-ae73-fdbfcc690e4e",
   "metadata": {},
   "source": [
    "### Multiply all the even numbers in the given list"
   ]
  },
  {
   "cell_type": "code",
   "execution_count": 21,
   "id": "43e8b037-5601-47a8-94e7-fc4513a7e16f",
   "metadata": {},
   "outputs": [
    {
     "name": "stdout",
     "output_type": "stream",
     "text": [
      "The final answer is: 48\n"
     ]
    }
   ],
   "source": [
    "result = 1\n",
    "for _ in randomList:\n",
    "  if _% 2 == 0:\n",
    "    result*= _\n",
    "print (f'The final answer is: {result}')  "
   ]
  },
  {
   "cell_type": "markdown",
   "id": "224a54b3-efac-456e-bbe6-3aad3eff22a0",
   "metadata": {},
   "source": [
    "### Adding a new number to the list"
   ]
  },
  {
   "cell_type": "code",
   "execution_count": 22,
   "id": "58cf3b85-8922-4c45-9f06-2c8084ce1211",
   "metadata": {},
   "outputs": [
    {
     "data": {
      "text/plain": [
       "[1, 2, 3, 4, 5, 6]"
      ]
     },
     "execution_count": 22,
     "metadata": {},
     "output_type": "execute_result"
    }
   ],
   "source": [
    "randomList\n"
   ]
  },
  {
   "cell_type": "code",
   "execution_count": 23,
   "id": "485988d0-58dc-415d-bf54-05f57bd39cf6",
   "metadata": {},
   "outputs": [],
   "source": [
    "randomList.append (7)"
   ]
  },
  {
   "cell_type": "code",
   "execution_count": 24,
   "id": "7d62b2b2-300d-400c-859f-0ac5462210fe",
   "metadata": {},
   "outputs": [
    {
     "data": {
      "text/plain": [
       "[1, 2, 3, 4, 5, 6, 7]"
      ]
     },
     "execution_count": 24,
     "metadata": {},
     "output_type": "execute_result"
    }
   ],
   "source": [
    "randomList"
   ]
  },
  {
   "cell_type": "code",
   "execution_count": null,
   "id": "038e580a-6e32-4cec-a08c-b861901ee137",
   "metadata": {},
   "outputs": [],
   "source": []
  }
 ],
 "metadata": {
  "kernelspec": {
   "display_name": "Python 3 (ipykernel)",
   "language": "python",
   "name": "python3"
  },
  "language_info": {
   "codemirror_mode": {
    "name": "ipython",
    "version": 3
   },
   "file_extension": ".py",
   "mimetype": "text/x-python",
   "name": "python",
   "nbconvert_exporter": "python",
   "pygments_lexer": "ipython3",
   "version": "3.10.0"
  }
 },
 "nbformat": 4,
 "nbformat_minor": 5
}
